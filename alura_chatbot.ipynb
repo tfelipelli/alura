{
  "cells": [
    {
      "cell_type": "markdown",
      "metadata": {
        "id": "view-in-github",
        "colab_type": "text"
      },
      "source": [
        "<a href=\"https://colab.research.google.com/github/tfelipelli/alura/blob/main/alura_chatbot.ipynb\" target=\"_parent\"><img src=\"https://colab.research.google.com/assets/colab-badge.svg\" alt=\"Open In Colab\"/></a>"
      ]
    },
    {
      "cell_type": "code",
      "execution_count": 32,
      "metadata": {
        "id": "nFQLKQ6hfXch"
      },
      "outputs": [],
      "source": [
        "#Instalando o SDK do Google\n",
        "!pip install -q -U google-generativeai"
      ]
    },
    {
      "cell_type": "code",
      "source": [
        "from google.colab import userdata\n",
        "api_key = userdata.get(\"GOOGLE_API_KEY\")"
      ],
      "metadata": {
        "id": "mNlIY5s8cFGp"
      },
      "execution_count": 33,
      "outputs": []
    },
    {
      "cell_type": "code",
      "execution_count": 35,
      "metadata": {
        "id": "IthzwfnAfcsi"
      },
      "outputs": [],
      "source": [
        "#Configurações iniciais\n",
        "import google.generativeai as genai\n",
        "\n",
        "genai.configure(api_key=api_key)"
      ]
    },
    {
      "cell_type": "code",
      "execution_count": 36,
      "metadata": {
        "colab": {
          "base_uri": "https://localhost:8080/",
          "height": 138
        },
        "id": "iD3ihugymWBt",
        "outputId": "4c5c5155-ef0d-44bb-872b-5d94169cb45b"
      },
      "outputs": [
        {
          "output_type": "stream",
          "name": "stdout",
          "text": [
            "models/gemini-1.0-pro\n",
            "models/gemini-1.0-pro-001\n",
            "models/gemini-1.0-pro-latest\n",
            "models/gemini-1.0-pro-vision-latest\n",
            "models/gemini-1.5-pro-latest\n",
            "models/gemini-pro\n",
            "models/gemini-pro-vision\n"
          ]
        }
      ],
      "source": [
        "#Listando os modelos disponíveis\n",
        "for m in genai.list_models():\n",
        "  if 'generateContent' in m.supported_generation_methods:\n",
        "    print(m.name)"
      ]
    },
    {
      "cell_type": "code",
      "execution_count": 37,
      "metadata": {
        "id": "O1ochaeyDn_o"
      },
      "outputs": [],
      "source": [
        "#can use default\n",
        "generation_config = {\n",
        "  \"candidate_count\": 1, #só uma resposta\n",
        "  \"temperature\": 0.5, #adiciona aliatoriedade no modelo, quanto maior que zero\n",
        "}"
      ]
    },
    {
      "cell_type": "code",
      "execution_count": 38,
      "metadata": {
        "id": "jwBv7DofDofw"
      },
      "outputs": [],
      "source": [
        "#can use default\n",
        "safety_settings={\n",
        "    'HATE': 'BLOCK_NONE', #FEW, SOME, MOST\n",
        "    'HARASSMENT': 'BLOCK_NONE',\n",
        "    'SEXUAL' : 'BLOCK_NONE',\n",
        "    'DANGEROUS' : 'BLOCK_NONE'\n",
        "    }"
      ]
    },
    {
      "cell_type": "code",
      "execution_count": 39,
      "metadata": {
        "id": "NIiSs1R5mVJE"
      },
      "outputs": [],
      "source": [
        "model = genai.GenerativeModel(model_name='gemini-1.0-pro', #posso seguir só com essa linha -> gemini-pro\n",
        "                                  generation_config=generation_config,\n",
        "                                  safety_settings=safety_settings,)"
      ]
    },
    {
      "cell_type": "code",
      "execution_count": 40,
      "metadata": {
        "colab": {
          "base_uri": "https://localhost:8080/",
          "height": 36
        },
        "id": "vrRjhT2rlrU_",
        "outputId": "87aa4e38-81ac-4f94-fe0a-aa8dfaf40f30"
      },
      "outputs": [
        {
          "output_type": "execute_result",
          "data": {
            "text/plain": [
              "'Google'"
            ],
            "application/vnd.google.colaboratory.intrinsic+json": {
              "type": "string"
            }
          },
          "metadata": {},
          "execution_count": 40
        }
      ],
      "source": [
        "response = model.generate_content(\"Que empresa criou o modelo de IA Gemini?\")\n",
        "response.text"
      ]
    },
    {
      "cell_type": "code",
      "execution_count": 41,
      "metadata": {
        "colab": {
          "base_uri": "https://localhost:8080/",
          "height": 471
        },
        "id": "KpaQ6hm5f2_J",
        "outputId": "73f2620d-e3a8-4d5f-8d54-ff26bf9ea996"
      },
      "outputs": [
        {
          "name": "stdout",
          "output_type": "stream",
          "text": [
            "Esperando prompt: capital do brasil\n",
            "Resposta: Brasília \n",
            "\n",
            "\n",
            "Esperando prompt: comida mais tipica desse pais\n",
            "Resposta: Feijoada\n",
            "\n",
            "A feijoada é um prato tradicional brasileiro feito com feijão preto cozido com vários tipos de carne, como carne de porco, carne bovina e linguiça. É normalmente servido com arroz, couve refogada e farofa (farinha de mandioca torrada). \n",
            "\n",
            "\n",
            "Esperando prompt: cidadania de quem nasce nessa cidade\n",
            "Resposta: Brasileira\n",
            "\n",
            "Todas as pessoas nascidas no Brasil são brasileiras natas, de acordo com o artigo 12, inciso I, da Constituição Federal de 1988. Isso significa que têm direito à cidadania brasileira, que lhes garante direitos e deveres previstos na Constituição e na legislação brasileira. \n",
            "\n",
            "\n",
            "Esperando prompt: população\n",
            "Resposta: 215.351.056 (estimativa do IBGE para 1º de julho de 2023) \n",
            "\n",
            "\n",
            "Esperando prompt: população da cidade\n",
            "Resposta: 3.015.268 (estimativa do IBGE para 1º de julho de 2023) \n",
            "\n",
            "\n",
            "Esperando prompt: fim\n"
          ]
        }
      ],
      "source": [
        "#lista com historico de prompts começa vazia\n",
        "chat = model.start_chat(history=[])\n",
        "\n",
        "prompt = input('Esperando prompt: ')\n",
        "\n",
        "while prompt != \"fim\":\n",
        "  response = chat.send_message(prompt)\n",
        "  print(\"Resposta:\", response.text, '\\n\\n')\n",
        "  prompt = input('Esperando prompt: ')"
      ]
    },
    {
      "cell_type": "code",
      "execution_count": 42,
      "metadata": {
        "id": "XLAniTTDhHNW",
        "colab": {
          "base_uri": "https://localhost:8080/"
        },
        "outputId": "ffecc046-54ed-459d-ef28-7df929b1cb44"
      },
      "outputs": [
        {
          "output_type": "execute_result",
          "data": {
            "text/plain": [
              "ChatSession(\n",
              "    model=genai.GenerativeModel(\n",
              "        model_name='models/gemini-1.0-pro',\n",
              "        generation_config={'candidate_count': 1, 'temperature': 0.5},\n",
              "        safety_settings={<HarmCategory.HARM_CATEGORY_HATE_SPEECH: 8>: <HarmBlockThreshold.BLOCK_NONE: 4>, <HarmCategory.HARM_CATEGORY_HARASSMENT: 7>: <HarmBlockThreshold.BLOCK_NONE: 4>, <HarmCategory.HARM_CATEGORY_SEXUALLY_EXPLICIT: 9>: <HarmBlockThreshold.BLOCK_NONE: 4>, <HarmCategory.HARM_CATEGORY_DANGEROUS_CONTENT: 10>: <HarmBlockThreshold.BLOCK_NONE: 4>},\n",
              "        tools=None,\n",
              "        system_instruction=None,\n",
              "    ),\n",
              "    history=[glm.Content({'parts': [{'text': 'capital do brasil'}], 'role': 'user'}), glm.Content({'parts': [{'text': 'Brasília'}], 'role': 'model'}), glm.Content({'parts': [{'text': 'comida mais ...ca desse pais'}], 'role': 'user'}), glm.Content({'parts': [{'text': 'Feijoada\\n\\n...oca torrada).'}], 'role': 'model'}), glm.Content({'parts': [{'text': 'cidadania de... nessa cidade'}], 'role': 'user'}), glm.Content({'parts': [{'text': 'Brasileira\\n...o brasileira.'}], 'role': 'model'}), glm.Content({'parts': [{'text': 'população'}], 'role': 'user'}), glm.Content({'parts': [{'text': '215.351.056 ...ulho de 2023)'}], 'role': 'model'}), glm.Content({'parts': [{'text': 'população da cidade'}], 'role': 'user'}), glm.Content({'parts': [{'text': '3.015.268 (e...ulho de 2023)'}], 'role': 'model'})]\n",
              ")"
            ]
          },
          "metadata": {},
          "execution_count": 42
        }
      ],
      "source": [
        "chat"
      ]
    },
    {
      "cell_type": "code",
      "execution_count": 43,
      "metadata": {
        "id": "sd8mvW9KghTf",
        "colab": {
          "base_uri": "https://localhost:8080/"
        },
        "outputId": "f04445be-c1c0-4dac-a98b-ecd50c3b054d"
      },
      "outputs": [
        {
          "output_type": "execute_result",
          "data": {
            "text/plain": [
              "[parts {\n",
              "   text: \"capital do brasil\"\n",
              " }\n",
              " role: \"user\",\n",
              " parts {\n",
              "   text: \"Bras\\303\\255lia\"\n",
              " }\n",
              " role: \"model\",\n",
              " parts {\n",
              "   text: \"comida mais tipica desse pais\"\n",
              " }\n",
              " role: \"user\",\n",
              " parts {\n",
              "   text: \"Feijoada\\n\\nA feijoada \\303\\251 um prato tradicional brasileiro feito com feij\\303\\243o preto cozido com v\\303\\241rios tipos de carne, como carne de porco, carne bovina e lingui\\303\\247a. \\303\\211 normalmente servido com arroz, couve refogada e farofa (farinha de mandioca torrada).\"\n",
              " }\n",
              " role: \"model\",\n",
              " parts {\n",
              "   text: \"cidadania de quem nasce nessa cidade\"\n",
              " }\n",
              " role: \"user\",\n",
              " parts {\n",
              "   text: \"Brasileira\\n\\nTodas as pessoas nascidas no Brasil s\\303\\243o brasileiras natas, de acordo com o artigo 12, inciso I, da Constitui\\303\\247\\303\\243o Federal de 1988. Isso significa que t\\303\\252m direito \\303\\240 cidadania brasileira, que lhes garante direitos e deveres previstos na Constitui\\303\\247\\303\\243o e na legisla\\303\\247\\303\\243o brasileira.\"\n",
              " }\n",
              " role: \"model\",\n",
              " parts {\n",
              "   text: \"popula\\303\\247\\303\\243o\"\n",
              " }\n",
              " role: \"user\",\n",
              " parts {\n",
              "   text: \"215.351.056 (estimativa do IBGE para 1\\302\\272 de julho de 2023)\"\n",
              " }\n",
              " role: \"model\",\n",
              " parts {\n",
              "   text: \"popula\\303\\247\\303\\243o da cidade\"\n",
              " }\n",
              " role: \"user\",\n",
              " parts {\n",
              "   text: \"3.015.268 (estimativa do IBGE para 1\\302\\272 de julho de 2023)\"\n",
              " }\n",
              " role: \"model\"]"
            ]
          },
          "metadata": {},
          "execution_count": 43
        }
      ],
      "source": [
        "chat.history"
      ]
    },
    {
      "cell_type": "code",
      "execution_count": 44,
      "metadata": {
        "id": "dAcbPBocgzeX",
        "colab": {
          "base_uri": "https://localhost:8080/",
          "height": 725
        },
        "outputId": "8990366c-7b31-4043-a4d8-d0763e8b566f"
      },
      "outputs": [
        {
          "output_type": "display_data",
          "data": {
            "text/plain": [
              "<IPython.core.display.Markdown object>"
            ],
            "text/markdown": "> **user**: capital do brasil"
          },
          "metadata": {}
        },
        {
          "output_type": "stream",
          "name": "stdout",
          "text": [
            "-------------------------------------------\n"
          ]
        },
        {
          "output_type": "display_data",
          "data": {
            "text/plain": [
              "<IPython.core.display.Markdown object>"
            ],
            "text/markdown": "> **model**: Brasília"
          },
          "metadata": {}
        },
        {
          "output_type": "stream",
          "name": "stdout",
          "text": [
            "-------------------------------------------\n"
          ]
        },
        {
          "output_type": "display_data",
          "data": {
            "text/plain": [
              "<IPython.core.display.Markdown object>"
            ],
            "text/markdown": "> **user**: comida mais tipica desse pais"
          },
          "metadata": {}
        },
        {
          "output_type": "stream",
          "name": "stdout",
          "text": [
            "-------------------------------------------\n"
          ]
        },
        {
          "output_type": "display_data",
          "data": {
            "text/plain": [
              "<IPython.core.display.Markdown object>"
            ],
            "text/markdown": "> **model**: Feijoada\n> \n> A feijoada é um prato tradicional brasileiro feito com feijão preto cozido com vários tipos de carne, como carne de porco, carne bovina e linguiça. É normalmente servido com arroz, couve refogada e farofa (farinha de mandioca torrada)."
          },
          "metadata": {}
        },
        {
          "output_type": "stream",
          "name": "stdout",
          "text": [
            "-------------------------------------------\n"
          ]
        },
        {
          "output_type": "display_data",
          "data": {
            "text/plain": [
              "<IPython.core.display.Markdown object>"
            ],
            "text/markdown": "> **user**: cidadania de quem nasce nessa cidade"
          },
          "metadata": {}
        },
        {
          "output_type": "stream",
          "name": "stdout",
          "text": [
            "-------------------------------------------\n"
          ]
        },
        {
          "output_type": "display_data",
          "data": {
            "text/plain": [
              "<IPython.core.display.Markdown object>"
            ],
            "text/markdown": "> **model**: Brasileira\n> \n> Todas as pessoas nascidas no Brasil são brasileiras natas, de acordo com o artigo 12, inciso I, da Constituição Federal de 1988. Isso significa que têm direito à cidadania brasileira, que lhes garante direitos e deveres previstos na Constituição e na legislação brasileira."
          },
          "metadata": {}
        },
        {
          "output_type": "stream",
          "name": "stdout",
          "text": [
            "-------------------------------------------\n"
          ]
        },
        {
          "output_type": "display_data",
          "data": {
            "text/plain": [
              "<IPython.core.display.Markdown object>"
            ],
            "text/markdown": "> **user**: população"
          },
          "metadata": {}
        },
        {
          "output_type": "stream",
          "name": "stdout",
          "text": [
            "-------------------------------------------\n"
          ]
        },
        {
          "output_type": "display_data",
          "data": {
            "text/plain": [
              "<IPython.core.display.Markdown object>"
            ],
            "text/markdown": "> **model**: 215.351.056 (estimativa do IBGE para 1º de julho de 2023)"
          },
          "metadata": {}
        },
        {
          "output_type": "stream",
          "name": "stdout",
          "text": [
            "-------------------------------------------\n"
          ]
        },
        {
          "output_type": "display_data",
          "data": {
            "text/plain": [
              "<IPython.core.display.Markdown object>"
            ],
            "text/markdown": "> **user**: população da cidade"
          },
          "metadata": {}
        },
        {
          "output_type": "stream",
          "name": "stdout",
          "text": [
            "-------------------------------------------\n"
          ]
        },
        {
          "output_type": "display_data",
          "data": {
            "text/plain": [
              "<IPython.core.display.Markdown object>"
            ],
            "text/markdown": "> **model**: 3.015.268 (estimativa do IBGE para 1º de julho de 2023)"
          },
          "metadata": {}
        },
        {
          "output_type": "stream",
          "name": "stdout",
          "text": [
            "-------------------------------------------\n"
          ]
        }
      ],
      "source": [
        "#Melhorando a visualização\n",
        "#Código disponível em https://ai.google.dev/tutorials/python_quickstart#import_packages\n",
        "import textwrap\n",
        "from IPython.display import display\n",
        "from IPython.display import Markdown\n",
        "\n",
        "def to_markdown(text):\n",
        "  text = text.replace('•', '  *')\n",
        "  return Markdown(textwrap.indent(text, '> ', predicate=lambda _: True))\n",
        "\n",
        "#Imprimindo o histórico\n",
        "for message in chat.history:\n",
        "  display(to_markdown(f'**{message.role}**: {message.parts[0].text}'))\n",
        "  print('-------------------------------------------')"
      ]
    }
  ],
  "metadata": {
    "colab": {
      "provenance": [],
      "include_colab_link": true
    },
    "kernelspec": {
      "display_name": "Python 3",
      "name": "python3"
    },
    "language_info": {
      "name": "python"
    }
  },
  "nbformat": 4,
  "nbformat_minor": 0
}